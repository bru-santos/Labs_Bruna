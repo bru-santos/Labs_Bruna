{
 "cells": [
  {
   "cell_type": "markdown",
   "id": "5b3f4048",
   "metadata": {},
   "source": [
    "# Example Linear Regression"
   ]
  },
  {
   "cell_type": "code",
   "execution_count": 1,
   "id": "bb3bab33",
   "metadata": {},
   "outputs": [],
   "source": [
    "import pandas as pd\n",
    "import numpy as np\n",
    "import seaborn as sns"
   ]
  },
  {
   "cell_type": "code",
   "execution_count": 2,
   "id": "3f4feaae",
   "metadata": {},
   "outputs": [],
   "source": [
    "p_df = sns.load_dataset('penguins')"
   ]
  },
  {
   "cell_type": "code",
   "execution_count": 3,
   "id": "b012d15e",
   "metadata": {},
   "outputs": [],
   "source": [
    "p_df = p_df.dropna()"
   ]
  },
  {
   "cell_type": "code",
   "execution_count": 4,
   "id": "55fa1487",
   "metadata": {},
   "outputs": [],
   "source": [
    "p_df = p_df.reset_index()"
   ]
  },
  {
   "cell_type": "code",
   "execution_count": 5,
   "id": "769b8cf2",
   "metadata": {},
   "outputs": [
    {
     "data": {
      "text/html": [
       "<div>\n",
       "<style scoped>\n",
       "    .dataframe tbody tr th:only-of-type {\n",
       "        vertical-align: middle;\n",
       "    }\n",
       "\n",
       "    .dataframe tbody tr th {\n",
       "        vertical-align: top;\n",
       "    }\n",
       "\n",
       "    .dataframe thead th {\n",
       "        text-align: right;\n",
       "    }\n",
       "</style>\n",
       "<table border=\"1\" class=\"dataframe\">\n",
       "  <thead>\n",
       "    <tr style=\"text-align: right;\">\n",
       "      <th></th>\n",
       "      <th>index</th>\n",
       "      <th>species</th>\n",
       "      <th>island</th>\n",
       "      <th>bill_length_mm</th>\n",
       "      <th>bill_depth_mm</th>\n",
       "      <th>flipper_length_mm</th>\n",
       "      <th>body_mass_g</th>\n",
       "      <th>sex</th>\n",
       "    </tr>\n",
       "  </thead>\n",
       "  <tbody>\n",
       "    <tr>\n",
       "      <th>0</th>\n",
       "      <td>0</td>\n",
       "      <td>Adelie</td>\n",
       "      <td>Torgersen</td>\n",
       "      <td>39.1</td>\n",
       "      <td>18.7</td>\n",
       "      <td>181.0</td>\n",
       "      <td>3750.0</td>\n",
       "      <td>Male</td>\n",
       "    </tr>\n",
       "    <tr>\n",
       "      <th>1</th>\n",
       "      <td>1</td>\n",
       "      <td>Adelie</td>\n",
       "      <td>Torgersen</td>\n",
       "      <td>39.5</td>\n",
       "      <td>17.4</td>\n",
       "      <td>186.0</td>\n",
       "      <td>3800.0</td>\n",
       "      <td>Female</td>\n",
       "    </tr>\n",
       "    <tr>\n",
       "      <th>2</th>\n",
       "      <td>2</td>\n",
       "      <td>Adelie</td>\n",
       "      <td>Torgersen</td>\n",
       "      <td>40.3</td>\n",
       "      <td>18.0</td>\n",
       "      <td>195.0</td>\n",
       "      <td>3250.0</td>\n",
       "      <td>Female</td>\n",
       "    </tr>\n",
       "    <tr>\n",
       "      <th>3</th>\n",
       "      <td>4</td>\n",
       "      <td>Adelie</td>\n",
       "      <td>Torgersen</td>\n",
       "      <td>36.7</td>\n",
       "      <td>19.3</td>\n",
       "      <td>193.0</td>\n",
       "      <td>3450.0</td>\n",
       "      <td>Female</td>\n",
       "    </tr>\n",
       "    <tr>\n",
       "      <th>4</th>\n",
       "      <td>5</td>\n",
       "      <td>Adelie</td>\n",
       "      <td>Torgersen</td>\n",
       "      <td>39.3</td>\n",
       "      <td>20.6</td>\n",
       "      <td>190.0</td>\n",
       "      <td>3650.0</td>\n",
       "      <td>Male</td>\n",
       "    </tr>\n",
       "  </tbody>\n",
       "</table>\n",
       "</div>"
      ],
      "text/plain": [
       "   index species     island  bill_length_mm  bill_depth_mm  flipper_length_mm  \\\n",
       "0      0  Adelie  Torgersen            39.1           18.7              181.0   \n",
       "1      1  Adelie  Torgersen            39.5           17.4              186.0   \n",
       "2      2  Adelie  Torgersen            40.3           18.0              195.0   \n",
       "3      4  Adelie  Torgersen            36.7           19.3              193.0   \n",
       "4      5  Adelie  Torgersen            39.3           20.6              190.0   \n",
       "\n",
       "   body_mass_g     sex  \n",
       "0       3750.0    Male  \n",
       "1       3800.0  Female  \n",
       "2       3250.0  Female  \n",
       "3       3450.0  Female  \n",
       "4       3650.0    Male  "
      ]
     },
     "execution_count": 5,
     "metadata": {},
     "output_type": "execute_result"
    }
   ],
   "source": [
    "p_df.head()"
   ]
  },
  {
   "cell_type": "markdown",
   "id": "03bf4607",
   "metadata": {},
   "source": [
    "### We want to predict the weight of the penguins based on their flipper_length!"
   ]
  },
  {
   "cell_type": "markdown",
   "id": "59c54354",
   "metadata": {},
   "source": [
    "## X-y split"
   ]
  },
  {
   "cell_type": "code",
   "execution_count": 49,
   "id": "9aa5518f",
   "metadata": {},
   "outputs": [],
   "source": [
    "X = p_df['flipper_length_mm']\n",
    "y = p_df['body_mass_g']"
   ]
  },
  {
   "cell_type": "markdown",
   "id": "ba136db9",
   "metadata": {},
   "source": [
    "## Train-Test split"
   ]
  },
  {
   "cell_type": "code",
   "execution_count": 50,
   "id": "a9b31fe7",
   "metadata": {},
   "outputs": [],
   "source": [
    "from sklearn.model_selection import train_test_split"
   ]
  },
  {
   "cell_type": "code",
   "execution_count": 51,
   "id": "db008cb3",
   "metadata": {},
   "outputs": [],
   "source": [
    "X_train, X_test, y_train, y_test = train_test_split(X,y, test_size=0.3, random_state=42)"
   ]
  },
  {
   "cell_type": "code",
   "execution_count": 52,
   "id": "6a5cbe51",
   "metadata": {},
   "outputs": [
    {
     "data": {
      "text/plain": [
       "22     187.0\n",
       "284    221.0\n",
       "294    212.0\n",
       "56     185.0\n",
       "175    205.0\n",
       "       ...  \n",
       "188    196.0\n",
       "71     184.0\n",
       "106    193.0\n",
       "270    220.0\n",
       "102    181.0\n",
       "Name: flipper_length_mm, Length: 233, dtype: float64"
      ]
     },
     "execution_count": 52,
     "metadata": {},
     "output_type": "execute_result"
    }
   ],
   "source": [
    "X_train"
   ]
  },
  {
   "cell_type": "code",
   "execution_count": 16,
   "id": "8169fcf7",
   "metadata": {},
   "outputs": [
    {
     "data": {
      "text/plain": [
       "25     178.0\n",
       "309    222.0\n",
       "73     195.0\n",
       "195    198.0\n",
       "57     192.0\n",
       "       ...  \n",
       "15     174.0\n",
       "6      195.0\n",
       "209    207.0\n",
       "93     192.0\n",
       "30     196.0\n",
       "Name: flipper_length_mm, Length: 100, dtype: float64"
      ]
     },
     "execution_count": 16,
     "metadata": {},
     "output_type": "execute_result"
    }
   ],
   "source": [
    "X_test"
   ]
  },
  {
   "cell_type": "code",
   "execution_count": 18,
   "id": "e08d6606",
   "metadata": {},
   "outputs": [
    {
     "data": {
      "text/plain": [
       "array([[3200.],\n",
       "       [5100.],\n",
       "       [4725.],\n",
       "       [3600.],\n",
       "       [4550.],\n",
       "       [3700.],\n",
       "       [5550.],\n",
       "       [5850.],\n",
       "       [3500.],\n",
       "       [3750.],\n",
       "       [3000.],\n",
       "       [4625.],\n",
       "       [3825.],\n",
       "       [3700.],\n",
       "       [4300.],\n",
       "       [3700.],\n",
       "       [3325.],\n",
       "       [4200.],\n",
       "       [3550.],\n",
       "       [3400.],\n",
       "       [3950.],\n",
       "       [3325.],\n",
       "       [4900.],\n",
       "       [3650.],\n",
       "       [3800.],\n",
       "       [4925.],\n",
       "       [2900.],\n",
       "       [3550.],\n",
       "       [4250.],\n",
       "       [3650.],\n",
       "       [3075.],\n",
       "       [4250.],\n",
       "       [3600.],\n",
       "       [3700.],\n",
       "       [3150.],\n",
       "       [3100.],\n",
       "       [6050.],\n",
       "       [4150.],\n",
       "       [5000.],\n",
       "       [3700.],\n",
       "       [3500.],\n",
       "       [5200.],\n",
       "       [3400.],\n",
       "       [4750.],\n",
       "       [3250.],\n",
       "       [5000.],\n",
       "       [3650.],\n",
       "       [5950.],\n",
       "       [5100.],\n",
       "       [4400.],\n",
       "       [3775.],\n",
       "       [4550.],\n",
       "       [3900.],\n",
       "       [4400.],\n",
       "       [5050.],\n",
       "       [4050.],\n",
       "       [4400.],\n",
       "       [3350.],\n",
       "       [3250.],\n",
       "       [3250.],\n",
       "       [3875.],\n",
       "       [5500.],\n",
       "       [5000.],\n",
       "       [4950.],\n",
       "       [3450.],\n",
       "       [5150.],\n",
       "       [4650.],\n",
       "       [4150.],\n",
       "       [6300.],\n",
       "       [3250.],\n",
       "       [3500.],\n",
       "       [3800.],\n",
       "       [5550.],\n",
       "       [3275.],\n",
       "       [4700.],\n",
       "       [6000.],\n",
       "       [4475.],\n",
       "       [3200.],\n",
       "       [3325.],\n",
       "       [3600.],\n",
       "       [4700.],\n",
       "       [4275.],\n",
       "       [4800.],\n",
       "       [5800.],\n",
       "       [4250.],\n",
       "       [2700.],\n",
       "       [4800.],\n",
       "       [3500.],\n",
       "       [5200.],\n",
       "       [3900.],\n",
       "       [4625.],\n",
       "       [4300.],\n",
       "       [3950.],\n",
       "       [3700.],\n",
       "       [4050.],\n",
       "       [4500.],\n",
       "       [3150.],\n",
       "       [3900.],\n",
       "       [3300.],\n",
       "       [3450.],\n",
       "       [4700.],\n",
       "       [3975.],\n",
       "       [5050.],\n",
       "       [3800.],\n",
       "       [4725.],\n",
       "       [5700.],\n",
       "       [3350.],\n",
       "       [3800.],\n",
       "       [4000.],\n",
       "       [3425.],\n",
       "       [4300.],\n",
       "       [5400.],\n",
       "       [3950.],\n",
       "       [3050.],\n",
       "       [3900.],\n",
       "       [5850.],\n",
       "       [3475.],\n",
       "       [5050.],\n",
       "       [3750.],\n",
       "       [5300.],\n",
       "       [4700.],\n",
       "       [5400.],\n",
       "       [3750.],\n",
       "       [3400.],\n",
       "       [5800.],\n",
       "       [5400.],\n",
       "       [3775.],\n",
       "       [4775.],\n",
       "       [4150.],\n",
       "       [2925.],\n",
       "       [3900.],\n",
       "       [4300.],\n",
       "       [4100.],\n",
       "       [3725.],\n",
       "       [4050.],\n",
       "       [5150.],\n",
       "       [4975.],\n",
       "       [3450.],\n",
       "       [4850.],\n",
       "       [3350.],\n",
       "       [4600.],\n",
       "       [3300.],\n",
       "       [5300.],\n",
       "       [4150.],\n",
       "       [5350.],\n",
       "       [3650.],\n",
       "       [3050.],\n",
       "       [3550.],\n",
       "       [4950.],\n",
       "       [3300.],\n",
       "       [4750.],\n",
       "       [5200.],\n",
       "       [5550.],\n",
       "       [3000.],\n",
       "       [3050.],\n",
       "       [5700.],\n",
       "       [3475.],\n",
       "       [3425.],\n",
       "       [3800.],\n",
       "       [3600.],\n",
       "       [4200.],\n",
       "       [3800.],\n",
       "       [4600.],\n",
       "       [4850.],\n",
       "       [4450.],\n",
       "       [4450.],\n",
       "       [4750.],\n",
       "       [4400.],\n",
       "       [3650.],\n",
       "       [4100.],\n",
       "       [4750.],\n",
       "       [4350.],\n",
       "       [5500.],\n",
       "       [5650.],\n",
       "       [4300.],\n",
       "       [3450.],\n",
       "       [4050.],\n",
       "       [4150.],\n",
       "       [5700.],\n",
       "       [3675.],\n",
       "       [4200.],\n",
       "       [4600.],\n",
       "       [3750.],\n",
       "       [3800.],\n",
       "       [3700.],\n",
       "       [3800.],\n",
       "       [3525.],\n",
       "       [4650.],\n",
       "       [4850.],\n",
       "       [4350.],\n",
       "       [2850.],\n",
       "       [5300.],\n",
       "       [4600.],\n",
       "       [3325.],\n",
       "       [3300.],\n",
       "       [4200.],\n",
       "       [3600.],\n",
       "       [6000.],\n",
       "       [3400.],\n",
       "       [5500.],\n",
       "       [5250.],\n",
       "       [3150.],\n",
       "       [3550.],\n",
       "       [3700.],\n",
       "       [3500.],\n",
       "       [5200.],\n",
       "       [3650.],\n",
       "       [3800.],\n",
       "       [2850.],\n",
       "       [2900.],\n",
       "       [5000.],\n",
       "       [5350.],\n",
       "       [3550.],\n",
       "       [3575.],\n",
       "       [5650.],\n",
       "       [4450.],\n",
       "       [5450.],\n",
       "       [5550.],\n",
       "       [4925.],\n",
       "       [3525.],\n",
       "       [3175.],\n",
       "       [3950.],\n",
       "       [3550.],\n",
       "       [4450.],\n",
       "       [4500.],\n",
       "       [4300.],\n",
       "       [5400.],\n",
       "       [3800.],\n",
       "       [3550.],\n",
       "       [3900.],\n",
       "       [3200.],\n",
       "       [5000.],\n",
       "       [3175.]])"
      ]
     },
     "execution_count": 18,
     "metadata": {},
     "output_type": "execute_result"
    }
   ],
   "source": [
    "y_train"
   ]
  },
  {
   "cell_type": "code",
   "execution_count": 19,
   "id": "6564fd03",
   "metadata": {},
   "outputs": [
    {
     "data": {
      "text/plain": [
       "25     3250.0\n",
       "309    4875.0\n",
       "73     4000.0\n",
       "195    3675.0\n",
       "57     4050.0\n",
       "        ...  \n",
       "15     3400.0\n",
       "6      4675.0\n",
       "209    4000.0\n",
       "93     4100.0\n",
       "30     4150.0\n",
       "Name: body_mass_g, Length: 100, dtype: float64"
      ]
     },
     "execution_count": 19,
     "metadata": {},
     "output_type": "execute_result"
    }
   ],
   "source": [
    "y_test"
   ]
  },
  {
   "cell_type": "markdown",
   "id": "7a46c81e",
   "metadata": {},
   "source": [
    "## Model Generation"
   ]
  },
  {
   "cell_type": "code",
   "execution_count": 10,
   "id": "9bec0635",
   "metadata": {},
   "outputs": [],
   "source": [
    "from sklearn.linear_model import LinearRegression"
   ]
  },
  {
   "cell_type": "code",
   "execution_count": 11,
   "id": "9ca2a1e7",
   "metadata": {},
   "outputs": [],
   "source": [
    "X_train = np.array(X_train).reshape(-1,1)\n",
    "y_train = np.array(y_train).reshape(-1,1)"
   ]
  },
  {
   "cell_type": "code",
   "execution_count": 13,
   "id": "bad03ff1",
   "metadata": {},
   "outputs": [],
   "source": [
    "lm = LinearRegression()\n",
    "model = lm.fit(X_train,y_train)"
   ]
  },
  {
   "cell_type": "code",
   "execution_count": 20,
   "id": "df2eac05",
   "metadata": {},
   "outputs": [
    {
     "name": "stdout",
     "output_type": "stream",
     "text": [
      "[[51.32743793]]\n",
      "[-6118.66754338]\n"
     ]
    }
   ],
   "source": [
    "print(model.coef_)\n",
    "print(model.intercept_)"
   ]
  },
  {
   "cell_type": "code",
   "execution_count": 23,
   "id": "1e7385b3",
   "metadata": {},
   "outputs": [],
   "source": [
    "X_test = np.array(X_test).reshape(-1,1)\n",
    "y_test = np.array(y_test).reshape(-1,1)"
   ]
  },
  {
   "cell_type": "code",
   "execution_count": 24,
   "id": "df2fb66b",
   "metadata": {},
   "outputs": [],
   "source": [
    "y_pred = model.predict(X_test)"
   ]
  },
  {
   "cell_type": "code",
   "execution_count": 25,
   "id": "e3e899f3",
   "metadata": {},
   "outputs": [
    {
     "data": {
      "text/plain": [
       "array([[ 232.38359244],\n",
       "       [-401.02367633],\n",
       "       [ 109.81714769],\n",
       "       [-369.16516609],\n",
       "       [ 313.79946147],\n",
       "       [ -12.74929707],\n",
       "       [ 222.64888574],\n",
       "       [-290.18285231],\n",
       "       [ -12.52797646],\n",
       "       [-248.14747987],\n",
       "       [ 758.48970976],\n",
       "       [ 355.83483391],\n",
       "       [  17.56045464],\n",
       "       [-287.52797646],\n",
       "       [-260.09442121],\n",
       "       [  23.09152695],\n",
       "       [-329.5633489 ],\n",
       "       [-236.20053853],\n",
       "       [ 320.4366511 ],\n",
       "       [-465.40417292],\n",
       "       [ 133.48970976],\n",
       "       [  91.45433732],\n",
       "       [ -83.98830389],\n",
       "       [-250.80235573],\n",
       "       [ 453.40127866],\n",
       "       [-630.89078683],\n",
       "       [ 285.92326501],\n",
       "       [-164.07673499],\n",
       "       [ 528.40127866],\n",
       "       [ 314.68425818],\n",
       "       [-579.5633489 ],\n",
       "       [-136.64317975],\n",
       "       [ 405.83483391],\n",
       "       [-699.4749178 ],\n",
       "       [  13.35682025],\n",
       "       [  -8.76698329],\n",
       "       [ -40.18285231],\n",
       "       [-607.43954536],\n",
       "       [-183.54566268],\n",
       "       [-378.23591097],\n",
       "       [ 128.40127866],\n",
       "       [-183.54566268],\n",
       "       [-746.82004195],\n",
       "       [-195.49260402],\n",
       "       [-257.21822475],\n",
       "       [  70.4366511 ],\n",
       "       [  75.30376159],\n",
       "       [ 769.10921317],\n",
       "       [ 266.45433732],\n",
       "       [-272.04136255],\n",
       "       [ -11.20053853],\n",
       "       [ 830.6135133 ],\n",
       "       [  88.57814086],\n",
       "       [ 479.72871659],\n",
       "       [ 215.12689939],\n",
       "       [ 226.63119952],\n",
       "       [ -22.92615927],\n",
       "       [ 509.81714769],\n",
       "       [ -41.51029024],\n",
       "       [-200.80235573],\n",
       "       [  16.01169611],\n",
       "       [ 583.26838915],\n",
       "       [-473.36880048],\n",
       "       [-337.52797646],\n",
       "       [ 412.47202354],\n",
       "       [-180.00599011],\n",
       "       [-540.18285231],\n",
       "       [-215.40417292],\n",
       "       [-334.87310061],\n",
       "       [ -28.67855219],\n",
       "       [ 217.78177525],\n",
       "       [ 829.72871659],\n",
       "       [ 127.95863745],\n",
       "       [-644.3864867 ],\n",
       "       [  83.26838915],\n",
       "       [ 101.85252013],\n",
       "       [ 367.78177525],\n",
       "       [-320.49260402],\n",
       "       [ -37.52797646],\n",
       "       [ 733.26838915],\n",
       "       [ 535.03846829],\n",
       "       [ 616.45433732],\n",
       "       [-279.5633489 ],\n",
       "       [  66.45433732],\n",
       "       [  16.01169611],\n",
       "       [-119.3864867 ],\n",
       "       [ 316.45433732],\n",
       "       [ 112.25070293],\n",
       "       [  96.54276842],\n",
       "       [-284.87310061],\n",
       "       [ 629.28607537],\n",
       "       [ 473.97632367],\n",
       "       [-198.14747987],\n",
       "       [ 213.79946147],\n",
       "       [ -95.49260402],\n",
       "       [ 587.69334415],\n",
       "       [ 784.81714769],\n",
       "       [-506.11210743],\n",
       "       [ 363.79946147],\n",
       "       [ 208.48970976]])"
      ]
     },
     "execution_count": 25,
     "metadata": {},
     "output_type": "execute_result"
    }
   ],
   "source": [
    "y_test - y_pred"
   ]
  },
  {
   "cell_type": "code",
   "execution_count": 26,
   "id": "bdf0e952",
   "metadata": {},
   "outputs": [],
   "source": [
    "compare = pd.DataFrame({'y_test':list(y_test), 'y_pred':list(y_pred)})"
   ]
  },
  {
   "cell_type": "code",
   "execution_count": 27,
   "id": "0a42106e",
   "metadata": {},
   "outputs": [
    {
     "data": {
      "text/html": [
       "<div>\n",
       "<style scoped>\n",
       "    .dataframe tbody tr th:only-of-type {\n",
       "        vertical-align: middle;\n",
       "    }\n",
       "\n",
       "    .dataframe tbody tr th {\n",
       "        vertical-align: top;\n",
       "    }\n",
       "\n",
       "    .dataframe thead th {\n",
       "        text-align: right;\n",
       "    }\n",
       "</style>\n",
       "<table border=\"1\" class=\"dataframe\">\n",
       "  <thead>\n",
       "    <tr style=\"text-align: right;\">\n",
       "      <th></th>\n",
       "      <th>y_test</th>\n",
       "      <th>y_pred</th>\n",
       "    </tr>\n",
       "  </thead>\n",
       "  <tbody>\n",
       "    <tr>\n",
       "      <th>0</th>\n",
       "      <td>[3250.0]</td>\n",
       "      <td>[3017.616407560008]</td>\n",
       "    </tr>\n",
       "    <tr>\n",
       "      <th>1</th>\n",
       "      <td>[4875.0]</td>\n",
       "      <td>[5276.023676332345]</td>\n",
       "    </tr>\n",
       "    <tr>\n",
       "      <th>2</th>\n",
       "      <td>[4000.0]</td>\n",
       "      <td>[3890.182852312955]</td>\n",
       "    </tr>\n",
       "    <tr>\n",
       "      <th>3</th>\n",
       "      <td>[3675.0]</td>\n",
       "      <td>[4044.1651660928874]</td>\n",
       "    </tr>\n",
       "    <tr>\n",
       "      <th>4</th>\n",
       "      <td>[4050.0]</td>\n",
       "      <td>[3736.200538533025]</td>\n",
       "    </tr>\n",
       "    <tr>\n",
       "      <th>...</th>\n",
       "      <td>...</td>\n",
       "      <td>...</td>\n",
       "    </tr>\n",
       "    <tr>\n",
       "      <th>95</th>\n",
       "      <td>[3400.0]</td>\n",
       "      <td>[2812.306655853432]</td>\n",
       "    </tr>\n",
       "    <tr>\n",
       "      <th>96</th>\n",
       "      <td>[4675.0]</td>\n",
       "      <td>[3890.182852312955]</td>\n",
       "    </tr>\n",
       "    <tr>\n",
       "      <th>97</th>\n",
       "      <td>[4000.0]</td>\n",
       "      <td>[4506.112107432684]</td>\n",
       "    </tr>\n",
       "    <tr>\n",
       "      <th>98</th>\n",
       "      <td>[4100.0]</td>\n",
       "      <td>[3736.200538533025]</td>\n",
       "    </tr>\n",
       "    <tr>\n",
       "      <th>99</th>\n",
       "      <td>[4150.0]</td>\n",
       "      <td>[3941.5102902395993]</td>\n",
       "    </tr>\n",
       "  </tbody>\n",
       "</table>\n",
       "<p>100 rows × 2 columns</p>\n",
       "</div>"
      ],
      "text/plain": [
       "      y_test                y_pred\n",
       "0   [3250.0]   [3017.616407560008]\n",
       "1   [4875.0]   [5276.023676332345]\n",
       "2   [4000.0]   [3890.182852312955]\n",
       "3   [3675.0]  [4044.1651660928874]\n",
       "4   [4050.0]   [3736.200538533025]\n",
       "..       ...                   ...\n",
       "95  [3400.0]   [2812.306655853432]\n",
       "96  [4675.0]   [3890.182852312955]\n",
       "97  [4000.0]   [4506.112107432684]\n",
       "98  [4100.0]   [3736.200538533025]\n",
       "99  [4150.0]  [3941.5102902395993]\n",
       "\n",
       "[100 rows x 2 columns]"
      ]
     },
     "execution_count": 27,
     "metadata": {},
     "output_type": "execute_result"
    }
   ],
   "source": [
    "compare"
   ]
  },
  {
   "cell_type": "markdown",
   "id": "7a308ed7",
   "metadata": {},
   "source": [
    "#### Model evaluation"
   ]
  },
  {
   "cell_type": "code",
   "execution_count": 53,
   "id": "78e9633b",
   "metadata": {},
   "outputs": [],
   "source": [
    "from sklearn.metrics import mean_absolute_error as mae, mean_squared_error as mse"
   ]
  },
  {
   "cell_type": "code",
   "execution_count": 54,
   "id": "c4194ef2",
   "metadata": {},
   "outputs": [
    {
     "data": {
      "text/plain": [
       "138931.09920252106"
      ]
     },
     "execution_count": 54,
     "metadata": {},
     "output_type": "execute_result"
    }
   ],
   "source": [
    "mse(y_test,y_pred)"
   ]
  },
  {
   "cell_type": "code",
   "execution_count": 55,
   "id": "0e98a7de",
   "metadata": {},
   "outputs": [
    {
     "data": {
      "text/plain": [
       "299.39047755852704"
      ]
     },
     "execution_count": 55,
     "metadata": {},
     "output_type": "execute_result"
    }
   ],
   "source": [
    "mae(y_test,y_pred)"
   ]
  },
  {
   "cell_type": "code",
   "execution_count": 56,
   "id": "582fa4ff",
   "metadata": {},
   "outputs": [],
   "source": [
    "import matplotlib.pyplot as plt"
   ]
  },
  {
   "cell_type": "code",
   "execution_count": null,
   "id": "aa22d870",
   "metadata": {},
   "outputs": [],
   "source": []
  },
  {
   "cell_type": "code",
   "execution_count": null,
   "id": "688a1161",
   "metadata": {},
   "outputs": [],
   "source": []
  }
 ],
 "metadata": {
  "kernelspec": {
   "display_name": "Python 3 (ipykernel)",
   "language": "python",
   "name": "python3"
  },
  "language_info": {
   "codemirror_mode": {
    "name": "ipython",
    "version": 3
   },
   "file_extension": ".py",
   "mimetype": "text/x-python",
   "name": "python",
   "nbconvert_exporter": "python",
   "pygments_lexer": "ipython3",
   "version": "3.10.9"
  }
 },
 "nbformat": 4,
 "nbformat_minor": 5
}
