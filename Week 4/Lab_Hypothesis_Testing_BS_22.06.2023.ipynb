{
 "cells": [
  {
   "cell_type": "markdown",
   "id": "41493024",
   "metadata": {},
   "source": [
    "# Lab | Hypothesis Testing"
   ]
  },
  {
   "cell_type": "markdown",
   "id": "18969ec3",
   "metadata": {},
   "source": [
    "## Instructions\n",
    "\n",
    "It is assumed that the mean systolic blood pressure is μ = 120 mm Hg. In the Honolulu Heart Study, a sample of n = 100 people had an average systolic blood pressure of 130.1 mm Hg with a standard deviation of 21.21 mm Hg. Is the group significantly different (with respect to systolic blood pressure!) from the regular population?\n",
    "\n",
    " - Set up the hypothesis test.\n",
    " - Write down all the steps followed for setting up the test.\n",
    " - Calculate the test statistic by hand and also code it in Python. It should be 4.76190. What decision can you make based on this calculated value?"
   ]
  },
  {
   "cell_type": "code",
   "execution_count": 4,
   "id": "35411b30",
   "metadata": {},
   "outputs": [],
   "source": [
    "import numpy as np\n",
    "import pandas as pd\n",
    "import scipy.stats as stats\n",
    "import matplotlib.pyplot as plt\n",
    "import seaborn as sns\n",
    "\n",
    "%matplotlib inline"
   ]
  },
  {
   "cell_type": "code",
   "execution_count": 7,
   "id": "946f982d",
   "metadata": {},
   "outputs": [
    {
     "name": "stdout",
     "output_type": "stream",
     "text": [
      "The critical value is 1.9842169515086827\n"
     ]
    }
   ],
   "source": [
    "sample_mean = 130.1\n",
    "population_mean = 120\n",
    "sample_std_dev = 21.21\n",
    "sample_size = 100\n",
    "\n",
    "tc = stats.t.ppf(0.975, df=99)\n",
    "print(\"The critical value is\",tc)"
   ]
  },
  {
   "cell_type": "code",
   "execution_count": 8,
   "id": "8ee49fbe",
   "metadata": {},
   "outputs": [
    {
     "name": "stdout",
     "output_type": "stream",
     "text": [
      "Test statistic: 4.761904761904759\n"
     ]
    }
   ],
   "source": [
    "t_stat = (sample_mean - population_mean) / (sample_std_dev / np.sqrt(100))\n",
    "print(\"Test statistic:\", t_stat)"
   ]
  },
  {
   "cell_type": "code",
   "execution_count": null,
   "id": "a7f61117",
   "metadata": {},
   "outputs": [],
   "source": []
  }
 ],
 "metadata": {
  "kernelspec": {
   "display_name": "Python 3 (ipykernel)",
   "language": "python",
   "name": "python3"
  },
  "language_info": {
   "codemirror_mode": {
    "name": "ipython",
    "version": 3
   },
   "file_extension": ".py",
   "mimetype": "text/x-python",
   "name": "python",
   "nbconvert_exporter": "python",
   "pygments_lexer": "ipython3",
   "version": "3.10.9"
  }
 },
 "nbformat": 4,
 "nbformat_minor": 5
}
