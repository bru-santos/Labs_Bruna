{
 "cells": [
  {
   "cell_type": "markdown",
   "id": "630bd419",
   "metadata": {},
   "source": [
    "List Comprehension"
   ]
  },
  {
   "cell_type": "code",
   "execution_count": null,
   "id": "65d5f76c",
   "metadata": {},
   "outputs": [],
   "source": [
    "students = "
   ]
  },
  {
   "cell_type": "code",
   "execution_count": null,
   "id": "16934d49",
   "metadata": {},
   "outputs": [],
   "source": [
    "first_names = []\n",
    "for students"
   ]
  },
  {
   "cell_type": "code",
   "execution_count": null,
   "id": "96cd9d0c",
   "metadata": {},
   "outputs": [],
   "source": []
  },
  {
   "cell_type": "code",
   "execution_count": 2,
   "id": "d4350bc2",
   "metadata": {},
   "outputs": [
    {
     "data": {
      "text/plain": [
       "['Bruna', 'Santos']"
      ]
     },
     "execution_count": 2,
     "metadata": {},
     "output_type": "execute_result"
    }
   ],
   "source": [
    "#split is for str\n",
    "\n",
    "name = \"Bruna Santos\"\n",
    "name.split()"
   ]
  },
  {
   "cell_type": "code",
   "execution_count": 3,
   "id": "b3ef5f01",
   "metadata": {},
   "outputs": [],
   "source": [
    "my_list = [[1,2,3], [1,3,2], [2,1,3], [2,3,1]]\n",
    "flat_list=[]"
   ]
  },
  {
   "cell_type": "code",
   "execution_count": 4,
   "id": "802a5044",
   "metadata": {},
   "outputs": [],
   "source": [
    "for sublist in my_list:\n",
    "    for item in sublist:\n",
    "        flat_list.append(item)"
   ]
  },
  {
   "cell_type": "code",
   "execution_count": 19,
   "id": "a3a4b4d7",
   "metadata": {},
   "outputs": [],
   "source": [
    "big_list = [['Kann','Feras', 'Tomas'],['Bruna','Ira','Valentina'], ['Jan','Anaswara','Ivanna']]"
   ]
  },
  {
   "cell_type": "code",
   "execution_count": 20,
   "id": "c84b9c02",
   "metadata": {},
   "outputs": [],
   "source": [
    "flat_list = [item for sublist in big_list for item in sublist]"
   ]
  },
  {
   "cell_type": "code",
   "execution_count": 24,
   "id": "b69090b1",
   "metadata": {},
   "outputs": [
    {
     "data": {
      "text/plain": [
       "['Kann',\n",
       " 'Feras',\n",
       " 'Tomas',\n",
       " 'Bruna',\n",
       " 'Ira',\n",
       " 'Valentina',\n",
       " 'Jan',\n",
       " 'Anaswara',\n",
       " 'Ivanna']"
      ]
     },
     "execution_count": 24,
     "metadata": {},
     "output_type": "execute_result"
    }
   ],
   "source": [
    "flat_list"
   ]
  },
  {
   "cell_type": "code",
   "execution_count": 28,
   "id": "c698b86c",
   "metadata": {},
   "outputs": [],
   "source": [
    "big_list = [[['Kann', 'Feras', 'Tomas'],['Bruna', 'Ira', 'Valentina']],\\\n",
    "            [['Raghda', 'Bryan', 'Tahora'],['Gen', 'Anaswara', 'Ivanna']]]\n"
   ]
  },
  {
   "cell_type": "code",
   "execution_count": 29,
   "id": "184fd399",
   "metadata": {},
   "outputs": [],
   "source": [
    "flat_list = [item for sublist in big_list for subsublist in sublist for intem in subsublist]"
   ]
  },
  {
   "cell_type": "code",
   "execution_count": 30,
   "id": "733f74a5",
   "metadata": {},
   "outputs": [
    {
     "data": {
      "text/plain": [
       "[1, 1, 1, 1, 1, 1, 1, 1, 1, 1, 1, 1]"
      ]
     },
     "execution_count": 30,
     "metadata": {},
     "output_type": "execute_result"
    }
   ],
   "source": [
    "flat_list"
   ]
  },
  {
   "cell_type": "code",
   "execution_count": null,
   "id": "6e1e264a",
   "metadata": {},
   "outputs": [],
   "source": []
  },
  {
   "cell_type": "code",
   "execution_count": null,
   "id": "ed895c1b",
   "metadata": {},
   "outputs": [],
   "source": []
  }
 ],
 "metadata": {
  "kernelspec": {
   "display_name": "Python 3 (ipykernel)",
   "language": "python",
   "name": "python3"
  },
  "language_info": {
   "codemirror_mode": {
    "name": "ipython",
    "version": 3
   },
   "file_extension": ".py",
   "mimetype": "text/x-python",
   "name": "python",
   "nbconvert_exporter": "python",
   "pygments_lexer": "ipython3",
   "version": "3.10.9"
  }
 },
 "nbformat": 4,
 "nbformat_minor": 5
}
