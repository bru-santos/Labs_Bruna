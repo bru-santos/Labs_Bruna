{
 "cells": [
  {
   "cell_type": "markdown",
   "id": "0037c5c0",
   "metadata": {},
   "source": [
    "# Lab | Comparing regression models"
   ]
  },
  {
   "cell_type": "markdown",
   "id": "33f926c7",
   "metadata": {},
   "source": [
    "## Instructions"
   ]
  },
  {
   "cell_type": "markdown",
   "id": "6c5af192",
   "metadata": {},
   "source": [
    " - fit the models LinearRegression,Lasso and Ridge and compare the model performances.\n",
    " - (Optional) Define a function that takes a list of models and trains (and tests) them so we can try a lot of them without repeating code.\n",
    " - Use feature selection techniques (P-Value, RFE) to select a subset of features to train the model with(if necessary).\n",
    " - (optional) Refit the models with the selected features."
   ]
  },
  {
   "cell_type": "code",
   "execution_count": 1,
   "id": "c634f622",
   "metadata": {},
   "outputs": [],
   "source": [
    "import pandas as pd\n",
    "import numpy as np\n",
    "import seaborn as sns\n",
    "import matplotlib.pyplot as plt"
   ]
  },
  {
   "cell_type": "code",
   "execution_count": null,
   "id": "fdac868b",
   "metadata": {},
   "outputs": [],
   "source": [
    "df = pd.read_csv (\"file:///Users/genevauy/Desktop/Data_Marketing_Customer_Analysis_Round3.csv\")"
   ]
  }
 ],
 "metadata": {
  "kernelspec": {
   "display_name": "Python 3 (ipykernel)",
   "language": "python",
   "name": "python3"
  },
  "language_info": {
   "codemirror_mode": {
    "name": "ipython",
    "version": 3
   },
   "file_extension": ".py",
   "mimetype": "text/x-python",
   "name": "python",
   "nbconvert_exporter": "python",
   "pygments_lexer": "ipython3",
   "version": "3.10.9"
  }
 },
 "nbformat": 4,
 "nbformat_minor": 5
}
