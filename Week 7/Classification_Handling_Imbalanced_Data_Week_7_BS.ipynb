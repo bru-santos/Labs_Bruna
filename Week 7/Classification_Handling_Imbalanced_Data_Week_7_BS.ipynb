{
 "cells": [
  {
   "cell_type": "markdown",
   "id": "24ed9175",
   "metadata": {},
   "source": [
    "# Lab | Classification, Handling Imbalanced Data"
   ]
  },
  {
   "cell_type": "markdown",
   "id": "986ff9ee",
   "metadata": {},
   "source": [
    "## Scenario"
   ]
  },
  {
   "cell_type": "markdown",
   "id": "2cff9d4a",
   "metadata": {},
   "source": [
    "You are working as an analyst for an internet service provider. You are provided with this historical data about your company's customers and their churn trends. Your task is to build a machine learning model that will help the company identify customers that are more likely to default/churn and thus prevent losses from such customers."
   ]
  },
  {
   "cell_type": "markdown",
   "id": "8649ef01",
   "metadata": {},
   "source": [
    "## Instructions"
   ]
  },
  {
   "cell_type": "markdown",
   "id": "8b328415",
   "metadata": {},
   "source": [
    "In this lab, we will first take a look at the degree of imbalance in the data and correct it using the techniques we learned in class."
   ]
  },
  {
   "cell_type": "markdown",
   "id": "bf2d9ad0",
   "metadata": {},
   "source": [
    "Here is the list of steps to be followed (building a simple model without balancing the data):"
   ]
  },
  {
   "cell_type": "markdown",
   "id": "b4a6d2f5",
   "metadata": {},
   "source": [
    "### Round 1"
   ]
  },
  {
   "cell_type": "markdown",
   "id": "f21048af",
   "metadata": {},
   "source": [
    " - Import the required libraries and modules that you would need.\n",
    " - Read that data into Python and call the dataframe churnData.\n",
    " - Check the datatypes of all the columns in the data. You will see that the column TotalCharges is object type.\n",
    " - Convert this column into numeric type using pd.to_numeric function.\n",
    " - Check for null values in the dataframe. Replace the null values.\n",
    " - Use the following features: tenure, SeniorCitizen, MonthlyCharges and TotalCharges:\n",
    " - Split the data into a training set and a test set.\n",
    " - Scale the features either by using normalizer or a standard scaler.\n",
    " - (optional)Fit a logistic Regression model on the training data.\n",
    " - Fit a Knn Classifier(NOT KnnRegressor please!)model on the training data."
   ]
  },
  {
   "cell_type": "code",
   "execution_count": 2,
   "id": "90d2b153",
   "metadata": {},
   "outputs": [],
   "source": [
    "import pandas as pd\n",
    "import numpy as np\n",
    "import matplotlib.pyplot as plt\n",
    "from sklearn.datasets import load_iris, load_breast_cancer\n",
    "from sklearn.datasets import fetch_california_housing\n",
    "from sklearn.datasets import load_iris, load_breast_cancer\n",
    "from sklearn.tree import DecisionTreeRegressor\n",
    "from sklearn.tree import DecisionTreeClassifier\n",
    "from sklearn.model_selection import train_test_split\n",
    "from sklearn.tree import plot_tree\n",
    "%matplotlib inline "
   ]
  },
  {
   "cell_type": "code",
   "execution_count": null,
   "id": "43ff534c",
   "metadata": {},
   "outputs": [],
   "source": []
  }
 ],
 "metadata": {
  "kernelspec": {
   "display_name": "Python 3 (ipykernel)",
   "language": "python",
   "name": "python3"
  },
  "language_info": {
   "codemirror_mode": {
    "name": "ipython",
    "version": 3
   },
   "file_extension": ".py",
   "mimetype": "text/x-python",
   "name": "python",
   "nbconvert_exporter": "python",
   "pygments_lexer": "ipython3",
   "version": "3.10.9"
  }
 },
 "nbformat": 4,
 "nbformat_minor": 5
}
