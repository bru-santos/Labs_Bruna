{
 "cells": [
  {
   "cell_type": "markdown",
   "id": "ee1240bb",
   "metadata": {},
   "source": [
    "**Numpy exercises**\n",
    "\n",
    "This is a collection of exercises that have been collected in the numpy mailing list, on stack overflow and in the numpy documentation. The goal of this collection is to offer a quick reference for both old and new users but also to provide a set of exercises for those who teach.\n",
    "\n",
    "If you find an error or think you've a better way to solve some of them, feel free to open an issue at https://github.com/rougier/numpy-100. File automatically generated. See the documentation to update questions/answers/hints programmatically."
   ]
  },
  {
   "cell_type": "markdown",
   "id": "0879a12c",
   "metadata": {},
   "source": [
    "**1. Import the numpy package under the name np**"
   ]
  },
  {
   "cell_type": "code",
   "execution_count": 70,
   "id": "f1453005",
   "metadata": {},
   "outputs": [],
   "source": [
    "import numpy as np #importing numpy.\n",
    "arr=np.array([1,3,5,7,9]) #create arr array."
   ]
  },
  {
   "cell_type": "code",
   "execution_count": 71,
   "id": "61259116",
   "metadata": {},
   "outputs": [],
   "source": [
    "import numpy as np"
   ]
  },
  {
   "cell_type": "code",
   "execution_count": 10,
   "id": "0be7e1fb",
   "metadata": {},
   "outputs": [
    {
     "name": "stdout",
     "output_type": "stream",
     "text": [
      "1.23.5\n",
      "blas_armpl_info:\n",
      "  NOT AVAILABLE\n",
      "blas_mkl_info:\n",
      "  NOT AVAILABLE\n",
      "blis_info:\n",
      "  NOT AVAILABLE\n",
      "openblas_info:\n",
      "    libraries = ['openblas', 'openblas']\n",
      "    library_dirs = ['/Users/brunasantos/anaconda3/lib']\n",
      "    language = c\n",
      "    define_macros = [('HAVE_CBLAS', None)]\n",
      "blas_opt_info:\n",
      "    libraries = ['openblas', 'openblas']\n",
      "    library_dirs = ['/Users/brunasantos/anaconda3/lib']\n",
      "    language = c\n",
      "    define_macros = [('HAVE_CBLAS', None)]\n",
      "lapack_armpl_info:\n",
      "  NOT AVAILABLE\n",
      "lapack_mkl_info:\n",
      "  NOT AVAILABLE\n",
      "openblas_lapack_info:\n",
      "    libraries = ['openblas', 'openblas']\n",
      "    library_dirs = ['/Users/brunasantos/anaconda3/lib']\n",
      "    language = c\n",
      "    define_macros = [('HAVE_CBLAS', None)]\n",
      "lapack_opt_info:\n",
      "    libraries = ['openblas', 'openblas']\n",
      "    library_dirs = ['/Users/brunasantos/anaconda3/lib']\n",
      "    language = c\n",
      "    define_macros = [('HAVE_CBLAS', None)]\n",
      "Supported SIMD extensions in this NumPy install:\n",
      "    baseline = SSE,SSE2,SSE3\n",
      "    found = SSSE3,SSE41,POPCNT,SSE42,AVX,F16C,FMA3,AVX2\n",
      "    not found = AVX512F,AVX512CD,AVX512_KNL,AVX512_SKX,AVX512_CLX,AVX512_CNL,AVX512_ICL\n"
     ]
    }
   ],
   "source": [
    "print(np.__version__)\n",
    "np.show_config()"
   ]
  },
  {
   "cell_type": "markdown",
   "id": "1038b435",
   "metadata": {},
   "source": [
    "**2. Create a null vector of size 10**"
   ]
  },
  {
   "cell_type": "code",
   "execution_count": 72,
   "id": "dbf898c9",
   "metadata": {},
   "outputs": [
    {
     "data": {
      "text/plain": [
       "array([0., 0., 0., 0., 0., 0., 0., 0., 0., 0.])"
      ]
     },
     "execution_count": 72,
     "metadata": {},
     "output_type": "execute_result"
    }
   ],
   "source": [
    "np.zeros(10)"
   ]
  },
  {
   "cell_type": "markdown",
   "id": "e8dd5e97",
   "metadata": {},
   "source": [
    "**3. Create a null vector of size 10 but the fifth value which is 1**"
   ]
  },
  {
   "cell_type": "code",
   "execution_count": 110,
   "id": "7f27b5d6",
   "metadata": {},
   "outputs": [
    {
     "name": "stdout",
     "output_type": "stream",
     "text": [
      "[0 0 0 0 1 0 0 0 0 0]\n"
     ]
    }
   ],
   "source": [
    "v = np.array([int(x==4) \n",
    " for x in range(10)])\n",
    "print(v)"
   ]
  },
  {
   "cell_type": "markdown",
   "id": "d45de929",
   "metadata": {},
   "source": [
    "**4. Create a vector with values ranging from 10 to 49**"
   ]
  },
  {
   "cell_type": "code",
   "execution_count": 91,
   "id": "a4480035",
   "metadata": {},
   "outputs": [
    {
     "data": {
      "text/plain": [
       "array([10, 11, 12, 13, 14, 15, 16, 17, 18, 19, 20, 21, 22, 23, 24, 25, 26,\n",
       "       27, 28, 29, 30, 31, 32, 33, 34, 35, 36, 37, 38, 39, 40, 41, 42, 43,\n",
       "       44, 45, 46, 47, 48, 49])"
      ]
     },
     "execution_count": 91,
     "metadata": {},
     "output_type": "execute_result"
    }
   ],
   "source": [
    "np.arange(10,50)"
   ]
  },
  {
   "cell_type": "markdown",
   "id": "cf800d16",
   "metadata": {},
   "source": [
    "**5. Create a 3x3 matrix with values ranging from 0 to 8**"
   ]
  },
  {
   "cell_type": "code",
   "execution_count": 96,
   "id": "276d3314",
   "metadata": {},
   "outputs": [
    {
     "name": "stdout",
     "output_type": "stream",
     "text": [
      "[[0 1 2]\n",
      " [3 4 5]\n",
      " [6 7 8]]\n"
     ]
    }
   ],
   "source": [
    "x = np.arange(9).reshape(3,3)\n",
    "print (x)"
   ]
  },
  {
   "cell_type": "markdown",
   "id": "e06c5b2c",
   "metadata": {},
   "source": [
    "**6. Find indices of non-zero elements from [1,2,0,0,4,0]**\n",
    "\n",
    "hint: np.nonzero"
   ]
  },
  {
   "cell_type": "code",
   "execution_count": 100,
   "id": "c33a55d9",
   "metadata": {},
   "outputs": [
    {
     "name": "stdout",
     "output_type": "stream",
     "text": [
      "(array([0, 1, 4]),)\n"
     ]
    }
   ],
   "source": [
    "v = np.nonzero([1,2,0,0,4,0])\n",
    "print(v)"
   ]
  },
  {
   "cell_type": "markdown",
   "id": "f6cf0491",
   "metadata": {},
   "source": [
    "**7. Create a 3x3 identity matrix**\n",
    "\n",
    "hint: np.eye"
   ]
  },
  {
   "cell_type": "code",
   "execution_count": 101,
   "id": "2be26e74",
   "metadata": {},
   "outputs": [
    {
     "name": "stdout",
     "output_type": "stream",
     "text": [
      "[[1. 0. 0.]\n",
      " [0. 1. 0.]\n",
      " [0. 0. 1.]]\n"
     ]
    }
   ],
   "source": [
    "x = np.eye(3)\n",
    "print (x)"
   ]
  },
  {
   "cell_type": "markdown",
   "id": "985bd9a1",
   "metadata": {},
   "source": [
    "**8. Create a 3x3x3 array with random values**\n",
    "\n",
    "hint: np.random.random"
   ]
  },
  {
   "cell_type": "code",
   "execution_count": 80,
   "id": "cf216dc4",
   "metadata": {},
   "outputs": [
    {
     "name": "stdout",
     "output_type": "stream",
     "text": [
      "[[[0.6963047  0.54824165 0.63003907]\n",
      "  [0.86324683 0.47215946 0.49059768]\n",
      "  [0.66496851 0.33345488 0.90019896]]\n",
      "\n",
      " [[0.90973321 0.06237005 0.57632169]\n",
      "  [0.49577828 0.55718443 0.73844922]\n",
      "  [0.32822181 0.34502874 0.54088709]]\n",
      "\n",
      " [[0.19963284 0.01002041 0.14578662]\n",
      "  [0.30840296 0.36019468 0.53854736]\n",
      "  [0.04637129 0.38023246 0.02653604]]]\n"
     ]
    }
   ],
   "source": [
    "x = np.random.random((3,3,3))\n",
    "print(x)"
   ]
  },
  {
   "cell_type": "markdown",
   "id": "6e530e27",
   "metadata": {},
   "source": [
    "**9. Create a 10x10 array with random values and find the minimum and maximum values**\n",
    "\n",
    "hint: min, max"
   ]
  },
  {
   "cell_type": "code",
   "execution_count": 117,
   "id": "489656dd",
   "metadata": {},
   "outputs": [
    {
     "name": "stdout",
     "output_type": "stream",
     "text": [
      "Original Array:\n",
      "[[8.16209530e-01 6.15245072e-01 2.91219334e-01 8.83091027e-01\n",
      "  1.82573280e-01 2.45784134e-02 6.53733617e-01 7.56302456e-01\n",
      "  5.46180365e-01 5.52171121e-02]\n",
      " [1.91924972e-01 3.24681944e-01 7.79017550e-01 9.52395387e-01\n",
      "  2.98653333e-01 4.21988019e-01 7.78910023e-01 1.96179717e-01\n",
      "  8.31066794e-01 2.47617345e-01]\n",
      " [2.04933846e-01 8.46847757e-01 6.19360793e-01 6.55675261e-01\n",
      "  2.27564411e-01 6.29364573e-02 4.66131245e-01 4.61813183e-01\n",
      "  1.10294582e-01 1.54928493e-01]\n",
      " [8.84083724e-01 5.76867183e-01 6.94217189e-01 7.68307201e-01\n",
      "  2.93860373e-01 1.24332615e-01 3.05871302e-01 8.69742838e-01\n",
      "  8.29189878e-01 4.75350909e-01]\n",
      " [6.92225634e-01 1.96340772e-01 6.76719085e-01 8.54374115e-02\n",
      "  7.23145041e-02 5.92776217e-01 2.52187930e-01 5.73986564e-01\n",
      "  4.82802334e-02 6.48452204e-01]\n",
      " [6.69124801e-01 7.15983463e-01 7.01431029e-01 6.18072540e-01\n",
      "  6.61188867e-01 3.38935393e-01 5.58652748e-01 5.54502820e-01\n",
      "  7.93188510e-02 5.41085649e-02]\n",
      " [5.32766997e-01 3.33720632e-01 4.19383023e-01 5.05280463e-02\n",
      "  2.74943245e-01 7.56983669e-01 2.68912720e-01 8.46992194e-01\n",
      "  5.94946445e-04 5.65254118e-01]\n",
      " [3.63126731e-01 8.45407293e-01 9.17282352e-01 1.91674952e-01\n",
      "  8.28315538e-01 2.82149160e-01 8.54308646e-01 6.45827242e-01\n",
      "  4.21451540e-01 6.10066611e-01]\n",
      " [5.77498061e-02 7.02477791e-01 7.37792679e-01 9.29127094e-01\n",
      "  3.16069094e-01 5.35464149e-01 7.61449312e-01 2.25792708e-01\n",
      "  1.62945229e-01 6.87763882e-01]\n",
      " [8.94561428e-01 8.13572731e-01 3.55358321e-01 7.44399591e-01\n",
      "  4.38477953e-01 9.04117438e-01 4.54361640e-02 7.23329983e-01\n",
      "  8.84138110e-02 5.51460090e-01]]\n",
      "Minimum and Maximum Values:\n",
      "0.0005949464448224973 0.9523953869174158\n"
     ]
    }
   ],
   "source": [
    "x = np.random.random((10,10))\n",
    "print(\"Original Array:\")\n",
    "print(x) \n",
    "xmin, xmax = x.min(), x.max()\n",
    "print(\"Minimum and Maximum Values:\")\n",
    "print(xmin, xmax)"
   ]
  },
  {
   "cell_type": "markdown",
   "id": "39c49f4d",
   "metadata": {},
   "source": [
    "**10. Create a random vector of size 30 and find the mean value**\n",
    "\n",
    "hint: mean"
   ]
  },
  {
   "cell_type": "code",
   "execution_count": 89,
   "id": "ccf04204",
   "metadata": {},
   "outputs": [
    {
     "name": "stdout",
     "output_type": "stream",
     "text": [
      "[0.93620049 0.54276777 0.36621354 0.84823095 0.10477989 0.83251192\n",
      " 0.73849311 0.63012393 0.07332753 0.74338683 0.02526438 0.81730786\n",
      " 0.9510812  0.93649668 0.31419562 0.40633561 0.87777952 0.50293241\n",
      " 0.72689506 0.97819955 0.80393338 0.09003219 0.09505138 0.48639698\n",
      " 0.90240868 0.3822239  0.62769091 0.12579566 0.54281798 0.38520861]\n"
     ]
    }
   ],
   "source": [
    "v = np.random.random(30)\n",
    "print(v)"
   ]
  },
  {
   "cell_type": "code",
   "execution_count": 90,
   "id": "5c667911",
   "metadata": {},
   "outputs": [
    {
     "data": {
      "text/plain": [
       "0.5598027843420118"
      ]
     },
     "execution_count": 90,
     "metadata": {},
     "output_type": "execute_result"
    }
   ],
   "source": [
    "v.mean()"
   ]
  },
  {
   "cell_type": "markdown",
   "id": "8f7cf9d2",
   "metadata": {},
   "source": [
    "**11. Create a 5x5 matrix with values 1,2,3,4 just below the diagonal**\n",
    "\n",
    "hint: np.diag"
   ]
  },
  {
   "cell_type": "code",
   "execution_count": 102,
   "id": "92e91c55",
   "metadata": {},
   "outputs": [
    {
     "name": "stdout",
     "output_type": "stream",
     "text": [
      "[[0 0 0 0 0]\n",
      " [1 0 0 0 0]\n",
      " [0 2 0 0 0]\n",
      " [0 0 3 0 0]\n",
      " [0 0 0 4 0]]\n"
     ]
    }
   ],
   "source": [
    "x = np.diag(1+np.arange(4), k = -1)\n",
    "print (x)"
   ]
  },
  {
   "cell_type": "markdown",
   "id": "2dc2d58e",
   "metadata": {},
   "source": [
    "**12. Normalize a 5x5 random matrix**\n",
    "\n",
    "hint: (x -mean)/std"
   ]
  },
  {
   "cell_type": "code",
   "execution_count": 103,
   "id": "96898e20",
   "metadata": {},
   "outputs": [
    {
     "name": "stdout",
     "output_type": "stream",
     "text": [
      "[[0.98342712 0.85533341 0.27356972 0.80089971 0.57744462]\n",
      " [0.73378635 0.76743841 0.         0.52644104 0.42883136]\n",
      " [0.86096071 0.08024195 0.84129307 0.05907241 0.33422692]\n",
      " [0.50744258 1.         0.61544688 0.46162287 0.49734414]\n",
      " [0.96497547 0.45644905 0.07066212 0.36275465 0.97110868]]\n"
     ]
    }
   ],
   "source": [
    "Z = np.random.random((5,5))\n",
    "Zmax, Zmin = Z.max(), Z.min()\n",
    "Z= (Z-Zmin)/(Zmax-Zmin)\n",
    "print (Z)"
   ]
  },
  {
   "cell_type": "markdown",
   "id": "4b77c67d",
   "metadata": {},
   "source": [
    "**13. How to find common values between two arrays?**\n",
    "\n",
    "hint: np.intersect1d"
   ]
  },
  {
   "cell_type": "code",
   "execution_count": 113,
   "id": "b804061b",
   "metadata": {},
   "outputs": [
    {
     "name": "stdout",
     "output_type": "stream",
     "text": [
      "Array1:  [ 0 10 20 40 60]\n",
      "Array2:  [10, 30, 40]\n",
      "Common values between two arrays:\n",
      "[10 40]\n"
     ]
    }
   ],
   "source": [
    "array1 = np.array([0, 10, 20, 40, 60])\n",
    "print(\"Array1: \",array1)\n",
    "array2 = [10, 30, 40]\n",
    "print(\"Array2: \",array2)\n",
    "print(\"Common values between two arrays:\")\n",
    "print(np.intersect1d(array1, array2))\n"
   ]
  },
  {
   "cell_type": "markdown",
   "id": "542b8b7c",
   "metadata": {},
   "source": [
    "array1 = np.array([0, 10, 20, 40, 60]): Creates a NumPy array with elements 0, 10, 20, 40, and 60.\n",
    "array2 = [10, 30, 40]: Creates a Python list with elements 10, 30, and 40.\n",
    "print(np.intersect1d(array1, array2)): The np.intersect1d function returns a sorted array \n",
    "    containing the common elements of the two input arrays, ‘array1’ and ‘array2’. \n",
    "    \n",
    "In this case, the common elements are 10 and 40, so the output will be [10 40]."
   ]
  },
  {
   "cell_type": "markdown",
   "id": "622500de",
   "metadata": {},
   "source": [
    "**14. Create a random vector of size 10 and sort it**\n",
    "\n",
    "hint: sort"
   ]
  },
  {
   "cell_type": "code",
   "execution_count": 116,
   "id": "f0d82147",
   "metadata": {},
   "outputs": [
    {
     "name": "stdout",
     "output_type": "stream",
     "text": [
      "Original array:\n",
      "[[0 0 0 0 0]\n",
      " [1 0 0 0 0]\n",
      " [0 2 0 0 0]\n",
      " [0 0 3 0 0]\n",
      " [0 0 0 4 0]]\n",
      "Sorted array:\n",
      "[[0 0 0 0 0]\n",
      " [0 0 0 0 1]\n",
      " [0 0 0 0 2]\n",
      " [0 0 0 0 3]\n",
      " [0 0 0 0 4]]\n"
     ]
    }
   ],
   "source": [
    "v = np.random.random(10)\n",
    "print(\"Original array:\")\n",
    "print(x)\n",
    "x.sort()\n",
    "print(\"Sorted array:\")\n",
    "print(x)"
   ]
  },
  {
   "cell_type": "markdown",
   "id": "ab6d4a66",
   "metadata": {},
   "source": [
    "x = np.random.random(10): \n",
    "    This line creates a 1D array x with 10 random numbers between 0 and 1 using the np.random.random() function. \n",
    "    The input integer 10 specifies the output array size.\n",
    "\n",
    "x.sort(): This line sorts the array x in ascending order using the x.sort() method. \n",
    "    The array x is modified in-place, meaning that the sorted values are stored back in the original array.\n",
    "\n",
    "Finally print() function prints the sorted 1D array x."
   ]
  },
  {
   "cell_type": "markdown",
   "id": "60002433",
   "metadata": {},
   "source": [
    "**15. Create random vector of size 10 and replace the maximum value by 0**\n",
    "\n",
    "hint: argmax"
   ]
  },
  {
   "cell_type": "code",
   "execution_count": 118,
   "id": "30297fc8",
   "metadata": {},
   "outputs": [
    {
     "name": "stdout",
     "output_type": "stream",
     "text": [
      "[0.14476971 0.438622   0.48767458 0.80848799 0.29307755 0.\n",
      " 0.56993704 0.53205506 0.27773716 0.35194346]\n"
     ]
    }
   ],
   "source": [
    "Z = np.random.random(10)\n",
    "Z[Z.argmax()] = 0\n",
    "print(Z)"
   ]
  },
  {
   "cell_type": "markdown",
   "id": "fb28fab4",
   "metadata": {},
   "source": [
    "**16. Subtract the mean of each row of a matrix**\n",
    "\n",
    "hint: mean(axis=,keepdims=)"
   ]
  },
  {
   "cell_type": "code",
   "execution_count": 120,
   "id": "d0c7d1e7",
   "metadata": {},
   "outputs": [
    {
     "data": {
      "text/plain": [
       "array([[-0.06276938, -0.2741792 ,  0.19996199, -0.19283326, -0.01555784,\n",
       "        -0.05793655, -0.00979953,  0.38793233,  0.03765188, -0.01247044],\n",
       "       [-0.1577308 , -0.40429969, -0.29098881, -0.19833719,  0.56300684,\n",
       "        -0.26291158,  0.07452665,  0.50529845,  0.52490774, -0.35347161],\n",
       "       [-0.34181914, -0.26975763,  0.13109091, -0.19089166, -0.11024316,\n",
       "         0.3727739 , -0.37802785,  0.45648356,  0.082347  ,  0.24804406],\n",
       "       [-0.60748005,  0.26057295,  0.25948713, -0.41204919,  0.36403841,\n",
       "         0.03138933,  0.03018146,  0.34200552, -0.15706932, -0.11107624],\n",
       "       [-0.36599977, -0.47227074, -0.14826842, -0.04073174,  0.14626793,\n",
       "        -0.01988788,  0.14761392,  0.40411455,  0.12221593,  0.22694622]])"
      ]
     },
     "execution_count": 120,
     "metadata": {},
     "output_type": "execute_result"
    }
   ],
   "source": [
    "X = np.random.rand(5, 10)\n",
    "\n",
    "# Recent versions of numpy\n",
    "Y = X - X.mean(axis=1, keepdims=True)\n",
    "\n",
    "# Older versions of numpy\n",
    "Y = X - X.mean(axis=1).reshape(-1, 1)\n",
    "Y"
   ]
  },
  {
   "cell_type": "markdown",
   "id": "5e0bb961",
   "metadata": {},
   "source": [
    "**17. How to get the n largest values of an array**\n",
    "\n",
    "Z = np.arange(10000) np.random.shuffle(Z) n = 5 hint: np.argsort | np.argpartition"
   ]
  },
  {
   "cell_type": "code",
   "execution_count": 121,
   "id": "46c222ff",
   "metadata": {},
   "outputs": [
    {
     "name": "stdout",
     "output_type": "stream",
     "text": [
      "Original array:\n",
      "[   0    1    2 ... 9997 9998 9999]\n",
      "[9995 9996 9997 9998 9999]\n"
     ]
    }
   ],
   "source": [
    "Z = np.arange(10000)\n",
    "print(\"Original array:\")\n",
    "print(Z)\n",
    "np.random.shuffle(Z)\n",
    "n = 5\n",
    "print (Z[np.argsort(Z)[-n:]])"
   ]
  },
  {
   "cell_type": "markdown",
   "id": "b4d96b3a",
   "metadata": {},
   "source": [
    "Z = np.arange(10000): This statement generates a 1D array of integers from 0 to 9999 (inclusive).\n",
    "\n",
    "np.random.shuffle(Z): This statement shuffles the elements of the array Z in-place \n",
    "    (i.e., the original array is modified) in a random order.\n",
    "\n",
    "n = 5: This statement sets the variable n to 5, which represents the number of largest elements we want to \n",
    "    extract from the shuffled array.\n",
    "\n",
    "Z[np.argsort(Z)[-n:]]: This statement sorts the indices of the shuffled array Z using np.argsort(z) in ascending order.\n",
    "    Then, by slicing [-n:], we get the last n indices corresponding to the n largest elements in the array. \n",
    "    In this case, since n = 5, the slice returns the index of the largest element in the shuffled array.\n",
    "\n",
    "print(Z[np.argsort(Z)[-n:]]): Finally print() function prints the largest element in the shuffled array \n",
    "    by indexing the array Z with the calculated slice.\n",
    "\n"
   ]
  },
  {
   "cell_type": "markdown",
   "id": "b8b4523b",
   "metadata": {},
   "source": [
    "**18. Create a random 5*3 matrix and replace items that are larger than 4 by their squares ( Example: 6 --> 36)**\n",
    "\n",
    "hint: np.where"
   ]
  },
  {
   "cell_type": "code",
   "execution_count": null,
   "id": "bd3aa7e8",
   "metadata": {},
   "outputs": [],
   "source": []
  }
 ],
 "metadata": {
  "kernelspec": {
   "display_name": "Python 3 (ipykernel)",
   "language": "python",
   "name": "python3"
  },
  "language_info": {
   "codemirror_mode": {
    "name": "ipython",
    "version": 3
   },
   "file_extension": ".py",
   "mimetype": "text/x-python",
   "name": "python",
   "nbconvert_exporter": "python",
   "pygments_lexer": "ipython3",
   "version": "3.10.9"
  }
 },
 "nbformat": 4,
 "nbformat_minor": 5
}
