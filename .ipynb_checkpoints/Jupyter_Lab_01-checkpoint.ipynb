{
 "cells": [
  {
   "cell_type": "markdown",
   "id": "ba2f79d8",
   "metadata": {},
   "source": [
    "We are giving you a deliberately silly exercise to get comfortable with jupyter notebook, and how to submit work from jupyter to us via github and the student portal."
   ]
  },
  {
   "cell_type": "code",
   "execution_count": 1,
   "id": "897283ca",
   "metadata": {},
   "outputs": [
    {
     "name": "stdout",
     "output_type": "stream",
     "text": [
      "please input the name: Maria\n"
     ]
    }
   ],
   "source": [
    "person_name = input('please input the name: ')"
   ]
  },
  {
   "cell_type": "markdown",
   "id": "23170be6",
   "metadata": {},
   "source": [
    "![Ballon Flight](https://img.freepik.com/fotos-gratis/paisagem-de-nevoeiro-matinal-e-montanhas-com-baloes-de-ar-quente-ao-nascer-do-sol_335224-794.jpg?size=626&ext=jpg)"
   ]
  },
  {
   "cell_type": "markdown",
   "id": "b895820a",
   "metadata": {},
   "source": [
    "Add bullet points of the top 3 things that the person likes to do at this destination. add relevant annotations to explain any function you have used\n",
    "\n",
    "Top 3 things:\n",
    "\n",
    "- Balloon flight\n",
    "\n",
    "- Good view\n",
    "\n",
    "- Relax"
   ]
  },
  {
   "cell_type": "markdown",
   "id": "d0220d37",
   "metadata": {},
   "source": [
    "**add relevant annotations to explain any function you have used**"
   ]
  },
  {
   "cell_type": "markdown",
   "id": "f0f20342",
   "metadata": {},
   "source": [
    "test"
   ]
  },
  {
   "cell_type": "code",
   "execution_count": null,
   "id": "2ae15e71",
   "metadata": {},
   "outputs": [],
   "source": []
  }
 ],
 "metadata": {
  "kernelspec": {
   "display_name": "Python 3 (ipykernel)",
   "language": "python",
   "name": "python3"
  },
  "language_info": {
   "codemirror_mode": {
    "name": "ipython",
    "version": 3
   },
   "file_extension": ".py",
   "mimetype": "text/x-python",
   "name": "python",
   "nbconvert_exporter": "python",
   "pygments_lexer": "ipython3",
   "version": "3.10.9"
  }
 },
 "nbformat": 4,
 "nbformat_minor": 5
}
