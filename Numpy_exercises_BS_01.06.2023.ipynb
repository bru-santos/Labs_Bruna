{
 "cells": [
  {
   "cell_type": "markdown",
   "id": "ee1240bb",
   "metadata": {},
   "source": [
    "**Numpy exercises**\n",
    "\n",
    "This is a collection of exercises that have been collected in the numpy mailing list, on stack overflow and in the numpy documentation. The goal of this collection is to offer a quick reference for both old and new users but also to provide a set of exercises for those who teach.\n",
    "\n",
    "If you find an error or think you've a better way to solve some of them, feel free to open an issue at https://github.com/rougier/numpy-100. File automatically generated. See the documentation to update questions/answers/hints programmatically."
   ]
  },
  {
   "cell_type": "markdown",
   "id": "0879a12c",
   "metadata": {},
   "source": [
    "**1. Import the numpy package under the name np**"
   ]
  },
  {
   "cell_type": "code",
   "execution_count": 5,
   "id": "f1453005",
   "metadata": {},
   "outputs": [],
   "source": [
    "import numpy as np #importing numpy.\n",
    "arr=np.array([1,3,5,7,9]) #create arr array."
   ]
  },
  {
   "cell_type": "code",
   "execution_count": 6,
   "id": "61259116",
   "metadata": {},
   "outputs": [],
   "source": [
    "import numpy as np"
   ]
  },
  {
   "cell_type": "code",
   "execution_count": 7,
   "id": "0be7e1fb",
   "metadata": {},
   "outputs": [
    {
     "name": "stdout",
     "output_type": "stream",
     "text": [
      "1.23.5\n",
      "blas_armpl_info:\n",
      "  NOT AVAILABLE\n",
      "blas_mkl_info:\n",
      "  NOT AVAILABLE\n",
      "blis_info:\n",
      "  NOT AVAILABLE\n",
      "openblas_info:\n",
      "    libraries = ['openblas', 'openblas']\n",
      "    library_dirs = ['/Users/brunasantos/anaconda3/lib']\n",
      "    language = c\n",
      "    define_macros = [('HAVE_CBLAS', None)]\n",
      "blas_opt_info:\n",
      "    libraries = ['openblas', 'openblas']\n",
      "    library_dirs = ['/Users/brunasantos/anaconda3/lib']\n",
      "    language = c\n",
      "    define_macros = [('HAVE_CBLAS', None)]\n",
      "lapack_armpl_info:\n",
      "  NOT AVAILABLE\n",
      "lapack_mkl_info:\n",
      "  NOT AVAILABLE\n",
      "openblas_lapack_info:\n",
      "    libraries = ['openblas', 'openblas']\n",
      "    library_dirs = ['/Users/brunasantos/anaconda3/lib']\n",
      "    language = c\n",
      "    define_macros = [('HAVE_CBLAS', None)]\n",
      "lapack_opt_info:\n",
      "    libraries = ['openblas', 'openblas']\n",
      "    library_dirs = ['/Users/brunasantos/anaconda3/lib']\n",
      "    language = c\n",
      "    define_macros = [('HAVE_CBLAS', None)]\n",
      "Supported SIMD extensions in this NumPy install:\n",
      "    baseline = SSE,SSE2,SSE3\n",
      "    found = SSSE3,SSE41,POPCNT,SSE42,AVX,F16C,FMA3,AVX2\n",
      "    not found = AVX512F,AVX512CD,AVX512_KNL,AVX512_SKX,AVX512_CLX,AVX512_CNL,AVX512_ICL\n"
     ]
    }
   ],
   "source": [
    "print(np.__version__)\n",
    "np.show_config()"
   ]
  },
  {
   "cell_type": "markdown",
   "id": "1038b435",
   "metadata": {},
   "source": [
    "**2. Create a null vector of size 10**"
   ]
  },
  {
   "cell_type": "code",
   "execution_count": 8,
   "id": "dbf898c9",
   "metadata": {},
   "outputs": [
    {
     "data": {
      "text/plain": [
       "array([0., 0., 0., 0., 0., 0., 0., 0., 0., 0.])"
      ]
     },
     "execution_count": 8,
     "metadata": {},
     "output_type": "execute_result"
    }
   ],
   "source": [
    "np.zeros(10)"
   ]
  },
  {
   "cell_type": "markdown",
   "id": "e8dd5e97",
   "metadata": {},
   "source": [
    "**3. Create a null vector of size 10 but the fifth value which is 1**"
   ]
  },
  {
   "cell_type": "code",
   "execution_count": 9,
   "id": "7f27b5d6",
   "metadata": {},
   "outputs": [
    {
     "name": "stdout",
     "output_type": "stream",
     "text": [
      "[0 0 0 0 1 0 0 0 0 0]\n"
     ]
    }
   ],
   "source": [
    "v = np.array([int(x==4) \n",
    " for x in range(10)])\n",
    "print(v)"
   ]
  },
  {
   "cell_type": "markdown",
   "id": "d45de929",
   "metadata": {},
   "source": [
    "**4. Create a vector with values ranging from 10 to 49**"
   ]
  },
  {
   "cell_type": "code",
   "execution_count": 10,
   "id": "a4480035",
   "metadata": {},
   "outputs": [
    {
     "data": {
      "text/plain": [
       "array([10, 11, 12, 13, 14, 15, 16, 17, 18, 19, 20, 21, 22, 23, 24, 25, 26,\n",
       "       27, 28, 29, 30, 31, 32, 33, 34, 35, 36, 37, 38, 39, 40, 41, 42, 43,\n",
       "       44, 45, 46, 47, 48, 49])"
      ]
     },
     "execution_count": 10,
     "metadata": {},
     "output_type": "execute_result"
    }
   ],
   "source": [
    "np.arange(10,50)"
   ]
  },
  {
   "cell_type": "markdown",
   "id": "cf800d16",
   "metadata": {},
   "source": [
    "**5. Create a 3x3 matrix with values ranging from 0 to 8**"
   ]
  },
  {
   "cell_type": "code",
   "execution_count": 11,
   "id": "276d3314",
   "metadata": {},
   "outputs": [
    {
     "name": "stdout",
     "output_type": "stream",
     "text": [
      "[[0 1 2]\n",
      " [3 4 5]\n",
      " [6 7 8]]\n"
     ]
    }
   ],
   "source": [
    "x = np.arange(9).reshape(3,3)\n",
    "print (x)"
   ]
  },
  {
   "cell_type": "markdown",
   "id": "e06c5b2c",
   "metadata": {},
   "source": [
    "**6. Find indices of non-zero elements from [1,2,0,0,4,0]**\n",
    "\n",
    "hint: np.nonzero"
   ]
  },
  {
   "cell_type": "code",
   "execution_count": 12,
   "id": "c33a55d9",
   "metadata": {},
   "outputs": [
    {
     "name": "stdout",
     "output_type": "stream",
     "text": [
      "(array([0, 1, 4]),)\n"
     ]
    }
   ],
   "source": [
    "v = np.nonzero([1,2,0,0,4,0])\n",
    "print(v)"
   ]
  },
  {
   "cell_type": "markdown",
   "id": "f6cf0491",
   "metadata": {},
   "source": [
    "**7. Create a 3x3 identity matrix**\n",
    "\n",
    "hint: np.eye"
   ]
  },
  {
   "cell_type": "code",
   "execution_count": 13,
   "id": "2be26e74",
   "metadata": {},
   "outputs": [
    {
     "name": "stdout",
     "output_type": "stream",
     "text": [
      "[[1. 0. 0.]\n",
      " [0. 1. 0.]\n",
      " [0. 0. 1.]]\n"
     ]
    }
   ],
   "source": [
    "x = np.eye(3)\n",
    "print (x)"
   ]
  },
  {
   "cell_type": "markdown",
   "id": "985bd9a1",
   "metadata": {},
   "source": [
    "**8. Create a 3x3x3 array with random values**\n",
    "\n",
    "hint: np.random.random"
   ]
  },
  {
   "cell_type": "code",
   "execution_count": 14,
   "id": "cf216dc4",
   "metadata": {},
   "outputs": [
    {
     "name": "stdout",
     "output_type": "stream",
     "text": [
      "[[[0.00721788 0.68131742 0.90357793]\n",
      "  [0.867749   0.1629375  0.35508401]\n",
      "  [0.6827684  0.6298795  0.76747045]]\n",
      "\n",
      " [[0.97494075 0.04714261 0.41228147]\n",
      "  [0.01762262 0.00258482 0.798936  ]\n",
      "  [0.10437343 0.41477461 0.8437231 ]]\n",
      "\n",
      " [[0.07823759 0.301944   0.78299777]\n",
      "  [0.36108205 0.62144621 0.17210855]\n",
      "  [0.90449009 0.39440416 0.6665882 ]]]\n"
     ]
    }
   ],
   "source": [
    "x = np.random.random((3,3,3))\n",
    "print(x)"
   ]
  },
  {
   "cell_type": "markdown",
   "id": "6e530e27",
   "metadata": {},
   "source": [
    "**9. Create a 10x10 array with random values and find the minimum and maximum values**\n",
    "\n",
    "hint: min, max"
   ]
  },
  {
   "cell_type": "code",
   "execution_count": 15,
   "id": "489656dd",
   "metadata": {},
   "outputs": [
    {
     "name": "stdout",
     "output_type": "stream",
     "text": [
      "Original Array:\n",
      "[[7.79997229e-01 7.21093063e-01 3.87445138e-01 4.46551747e-01\n",
      "  3.64225039e-01 2.60493705e-01 1.38200219e-01 4.09184335e-02\n",
      "  2.81944179e-02 8.15447330e-01]\n",
      " [5.98684212e-01 7.32724112e-02 7.29912801e-01 7.90989867e-01\n",
      "  9.81571722e-01 2.81965723e-01 6.18593537e-01 8.57345158e-01\n",
      "  2.35108876e-01 4.24093381e-02]\n",
      " [5.18557309e-01 2.93418398e-01 5.00604276e-01 3.35980051e-01\n",
      "  5.26448638e-01 2.77742922e-01 4.83366020e-01 7.75311490e-01\n",
      "  3.30667955e-01 1.02206430e-01]\n",
      " [4.90867570e-01 1.05315654e-01 8.98978859e-01 9.60642074e-01\n",
      "  2.10066513e-01 7.39726335e-01 9.36372648e-01 8.67298101e-01\n",
      "  8.52884702e-01 4.79974075e-01]\n",
      " [7.51259471e-01 6.18553439e-01 7.62010195e-01 8.01454328e-01\n",
      "  4.89391874e-01 8.11151942e-01 8.26617151e-01 7.20009029e-01\n",
      "  4.91442336e-04 7.04523925e-02]\n",
      " [2.90303820e-02 1.52075638e-02 9.91944258e-01 3.65758214e-01\n",
      "  2.07187440e-01 8.25207517e-01 7.14080864e-01 4.34124657e-01\n",
      "  5.48798247e-01 5.46012552e-01]\n",
      " [5.25942957e-01 6.48401190e-01 4.90982155e-01 1.83170108e-01\n",
      "  2.91768052e-01 2.13882960e-01 9.24580669e-01 3.35734696e-01\n",
      "  5.88055548e-01 4.82273893e-01]\n",
      " [3.13670806e-01 4.08280526e-01 9.09573119e-01 9.82229474e-01\n",
      "  7.53137363e-01 2.75970300e-01 1.29751861e-02 1.21584096e-01\n",
      "  9.73770466e-01 2.24367435e-01]\n",
      " [5.61293691e-01 8.36368101e-01 7.21183345e-01 5.22721124e-01\n",
      "  3.41314253e-01 9.21105257e-01 9.19278024e-01 9.01219355e-01\n",
      "  4.07241119e-01 8.38400557e-01]\n",
      " [3.58687538e-01 5.70045559e-02 2.95293256e-01 6.30249139e-01\n",
      "  1.24225830e-01 1.49756832e-01 2.46503861e-01 5.91115152e-01\n",
      "  1.78316230e-01 7.27658764e-02]]\n",
      "Minimum and Maximum Values:\n",
      "0.0004914423362846199 0.991944258203603\n"
     ]
    }
   ],
   "source": [
    "x = np.random.random((10,10))\n",
    "print(\"Original Array:\")\n",
    "print(x) \n",
    "xmin, xmax = x.min(), x.max()\n",
    "print(\"Minimum and Maximum Values:\")\n",
    "print(xmin, xmax)"
   ]
  },
  {
   "cell_type": "markdown",
   "id": "39c49f4d",
   "metadata": {},
   "source": [
    "**10. Create a random vector of size 30 and find the mean value**\n",
    "\n",
    "hint: mean"
   ]
  },
  {
   "cell_type": "code",
   "execution_count": 16,
   "id": "ccf04204",
   "metadata": {},
   "outputs": [
    {
     "name": "stdout",
     "output_type": "stream",
     "text": [
      "[0.03647262 0.68796826 0.15492155 0.21892777 0.02080292 0.00508117\n",
      " 0.00407253 0.43002343 0.00406489 0.76404946 0.95575418 0.43458203\n",
      " 0.10673185 0.66264396 0.45958968 0.59962566 0.54922816 0.34417362\n",
      " 0.88525648 0.68065174 0.59841387 0.52323768 0.50999001 0.31034397\n",
      " 0.05330611 0.65108826 0.07437033 0.85295901 0.67319221 0.85722096]\n"
     ]
    }
   ],
   "source": [
    "v = np.random.random(30)\n",
    "print(v)"
   ]
  },
  {
   "cell_type": "code",
   "execution_count": 17,
   "id": "5c667911",
   "metadata": {},
   "outputs": [
    {
     "data": {
      "text/plain": [
       "0.4369581448696441"
      ]
     },
     "execution_count": 17,
     "metadata": {},
     "output_type": "execute_result"
    }
   ],
   "source": [
    "v.mean()"
   ]
  },
  {
   "cell_type": "markdown",
   "id": "8f7cf9d2",
   "metadata": {},
   "source": [
    "**11. Create a 5x5 matrix with values 1,2,3,4 just below the diagonal**\n",
    "\n",
    "hint: np.diag"
   ]
  },
  {
   "cell_type": "code",
   "execution_count": 18,
   "id": "92e91c55",
   "metadata": {},
   "outputs": [
    {
     "name": "stdout",
     "output_type": "stream",
     "text": [
      "[[0 0 0 0 0]\n",
      " [1 0 0 0 0]\n",
      " [0 2 0 0 0]\n",
      " [0 0 3 0 0]\n",
      " [0 0 0 4 0]]\n"
     ]
    }
   ],
   "source": [
    "x = np.diag(1+np.arange(4), k = -1)\n",
    "print (x)"
   ]
  },
  {
   "cell_type": "markdown",
   "id": "2dc2d58e",
   "metadata": {},
   "source": [
    "**12. Normalize a 5x5 random matrix**\n",
    "\n",
    "hint: (x -mean)/std"
   ]
  },
  {
   "cell_type": "code",
   "execution_count": 19,
   "id": "96898e20",
   "metadata": {},
   "outputs": [
    {
     "name": "stdout",
     "output_type": "stream",
     "text": [
      "[[0.71932967 0.05110252 0.6231208  0.93232125 0.15306023]\n",
      " [0.33427919 0.17066713 0.35606137 0.67620166 0.35378604]\n",
      " [0.58995943 0.78614156 0.91486631 0.63409104 0.18689092]\n",
      " [0.0690027  0.96489739 0.66215221 0.56191105 0.04127868]\n",
      " [0.         1.         0.52768691 0.89764304 0.86214299]]\n"
     ]
    }
   ],
   "source": [
    "Z = np.random.random((5,5))\n",
    "Zmax, Zmin = Z.max(), Z.min()\n",
    "Z = (Z-Zmin)/(Zmax-Zmin)\n",
    "print(Z)"
   ]
  },
  {
   "cell_type": "markdown",
   "id": "4b77c67d",
   "metadata": {},
   "source": [
    "**13. How to find common values between two arrays?**\n",
    "\n",
    "hint: np.intersect1d"
   ]
  },
  {
   "cell_type": "code",
   "execution_count": 20,
   "id": "b804061b",
   "metadata": {},
   "outputs": [
    {
     "name": "stdout",
     "output_type": "stream",
     "text": [
      "Array1:  [ 0 10 20 40 60]\n",
      "Array2:  [10, 30, 40]\n",
      "Common values between two arrays:\n",
      "[10 40]\n"
     ]
    }
   ],
   "source": [
    "array1 = np.array([0, 10, 20, 40, 60])\n",
    "print(\"Array1: \",array1)\n",
    "array2 = [10, 30, 40]\n",
    "print(\"Array2: \",array2)\n",
    "print(\"Common values between two arrays:\")\n",
    "print(np.intersect1d(array1, array2))\n"
   ]
  },
  {
   "cell_type": "markdown",
   "id": "542b8b7c",
   "metadata": {},
   "source": [
    "array1 = np.array([0, 10, 20, 40, 60]): Creates a NumPy array with elements 0, 10, 20, 40, and 60.\n",
    "array2 = [10, 30, 40]: Creates a Python list with elements 10, 30, and 40.\n",
    "print(np.intersect1d(array1, array2)): The np.intersect1d function returns a sorted array \n",
    "    containing the common elements of the two input arrays, ‘array1’ and ‘array2’. \n",
    "    \n",
    "In this case, the common elements are 10 and 40, so the output will be [10 40]."
   ]
  },
  {
   "cell_type": "markdown",
   "id": "622500de",
   "metadata": {},
   "source": [
    "**14. Create a random vector of size 10 and sort it**\n",
    "\n",
    "hint: sort"
   ]
  },
  {
   "cell_type": "code",
   "execution_count": 116,
   "id": "f0d82147",
   "metadata": {},
   "outputs": [
    {
     "name": "stdout",
     "output_type": "stream",
     "text": [
      "Original array:\n",
      "[[0 0 0 0 0]\n",
      " [1 0 0 0 0]\n",
      " [0 2 0 0 0]\n",
      " [0 0 3 0 0]\n",
      " [0 0 0 4 0]]\n",
      "Sorted array:\n",
      "[[0 0 0 0 0]\n",
      " [0 0 0 0 1]\n",
      " [0 0 0 0 2]\n",
      " [0 0 0 0 3]\n",
      " [0 0 0 0 4]]\n"
     ]
    }
   ],
   "source": [
    "v = np.random.random(10)\n",
    "print(\"Original array:\")\n",
    "print(x)\n",
    "x.sort()\n",
    "print(\"Sorted array:\")\n",
    "print(x)"
   ]
  },
  {
   "cell_type": "markdown",
   "id": "ab6d4a66",
   "metadata": {},
   "source": [
    "x = np.random.random(10): \n",
    "    This line creates a 1D array x with 10 random numbers between 0 and 1 using the np.random.random() function. \n",
    "    The input integer 10 specifies the output array size.\n",
    "\n",
    "x.sort(): This line sorts the array x in ascending order using the x.sort() method. \n",
    "    The array x is modified in-place, meaning that the sorted values are stored back in the original array.\n",
    "\n",
    "Finally print() function prints the sorted 1D array x."
   ]
  },
  {
   "cell_type": "markdown",
   "id": "60002433",
   "metadata": {},
   "source": [
    "**15. Create random vector of size 10 and replace the maximum value by 0**\n",
    "\n",
    "hint: argmax"
   ]
  },
  {
   "cell_type": "code",
   "execution_count": 118,
   "id": "30297fc8",
   "metadata": {},
   "outputs": [
    {
     "name": "stdout",
     "output_type": "stream",
     "text": [
      "[0.14476971 0.438622   0.48767458 0.80848799 0.29307755 0.\n",
      " 0.56993704 0.53205506 0.27773716 0.35194346]\n"
     ]
    }
   ],
   "source": [
    "Z = np.random.random(10)\n",
    "Z[Z.argmax()] = 0\n",
    "print(Z)"
   ]
  },
  {
   "cell_type": "code",
   "execution_count": 21,
   "id": "647cc8dc",
   "metadata": {},
   "outputs": [
    {
     "name": "stdout",
     "output_type": "stream",
     "text": [
      "[0.51400575 0.43532349 0.03845878 0.17770644 0.67824999 0.\n",
      " 0.3297817  0.59139538 0.5225611  0.25120765]\n"
     ]
    }
   ],
   "source": [
    "randomArrayTen2 = np.random.random((10))\n",
    "randomArrayTen2[np.argmax(randomArrayTen2)]=0\n",
    "print(randomArrayTen2)"
   ]
  },
  {
   "cell_type": "markdown",
   "id": "fb28fab4",
   "metadata": {},
   "source": [
    "**16. Subtract the mean of each row of a matrix**\n",
    "\n",
    "hint: mean(axis=,keepdims=)"
   ]
  },
  {
   "cell_type": "code",
   "execution_count": 25,
   "id": "d0c7d1e7",
   "metadata": {},
   "outputs": [
    {
     "data": {
      "text/plain": [
       "array([], shape=(0, 10), dtype=float64)"
      ]
     },
     "execution_count": 25,
     "metadata": {},
     "output_type": "execute_result"
    }
   ],
   "source": [
    "X = np.random.rand(0, 10)\n",
    "Y = X - X.mean(axis=1, keepdims=True)\n",
    "Y"
   ]
  },
  {
   "cell_type": "code",
   "execution_count": null,
   "id": "5ba20696",
   "metadata": {},
   "outputs": [],
   "source": [
    "randomThreeByThree = np.random.radiant(0,10,(3,3))\n",
    "print(randomThreeByThree)\n",
    "meansByRow = np.mean(random)"
   ]
  },
  {
   "cell_type": "markdown",
   "id": "5e0bb961",
   "metadata": {},
   "source": [
    "**17. How to get the n largest values of an array**\n",
    "\n",
    "Z = np.arange(10000) np.random.shuffle(Z) n = 5 hint: np.argsort | np.argpartition"
   ]
  },
  {
   "cell_type": "code",
   "execution_count": 30,
   "id": "cb9cb5f6",
   "metadata": {},
   "outputs": [
    {
     "ename": "AttributeError",
     "evalue": "module 'numpy.random' has no attribute 'radiant'",
     "output_type": "error",
     "traceback": [
      "\u001b[0;31m---------------------------------------------------------------------------\u001b[0m",
      "\u001b[0;31mAttributeError\u001b[0m                            Traceback (most recent call last)",
      "Cell \u001b[0;32mIn[30], line 1\u001b[0m\n\u001b[0;32m----> 1\u001b[0m LargeArray \u001b[38;5;241m=\u001b[39m \u001b[43mnp\u001b[49m\u001b[38;5;241;43m.\u001b[39;49m\u001b[43mrandom\u001b[49m\u001b[38;5;241;43m.\u001b[39;49m\u001b[43mradiant\u001b[49m(\u001b[38;5;241m1\u001b[39m,\u001b[38;5;241m1000\u001b[39m,(\u001b[38;5;241m1\u001b[39m,\u001b[38;5;241m1000\u001b[39m))\n\u001b[1;32m      2\u001b[0m sortedLargeArray \u001b[38;5;241m=\u001b[39m np\u001b[38;5;241m.\u001b[39msort(LargeArray)\n\u001b[1;32m      3\u001b[0m \u001b[38;5;28mprint\u001b[39m(sortedLargeArray[\u001b[38;5;241m0\u001b[39m,\u001b[38;5;241m-\u001b[39m\u001b[38;5;241m5\u001b[39m])\n",
      "\u001b[0;31mAttributeError\u001b[0m: module 'numpy.random' has no attribute 'radiant'"
     ]
    }
   ],
   "source": [
    "LargeArray = np.random.radiant(1,1000,(1,1000))\n",
    "sortedLargeArray = np.sort(LargeArray)\n",
    "print(sortedLargeArray[0,-5])\n",
    "print(sortedLargeArray[0,-5:])"
   ]
  },
  {
   "cell_type": "code",
   "execution_count": 121,
   "id": "46c222ff",
   "metadata": {},
   "outputs": [
    {
     "name": "stdout",
     "output_type": "stream",
     "text": [
      "Original array:\n",
      "[   0    1    2 ... 9997 9998 9999]\n",
      "[9995 9996 9997 9998 9999]\n"
     ]
    }
   ],
   "source": [
    "Z = np.arange(10000)\n",
    "print(\"Original array:\")\n",
    "print(Z)\n",
    "np.random.shuffle(Z)\n",
    "n = 5\n",
    "print (Z[np.argsort(Z)[-n:]])"
   ]
  },
  {
   "cell_type": "markdown",
   "id": "b4d96b3a",
   "metadata": {},
   "source": [
    "Z = np.arange(10000): This statement generates a 1D array of integers from 0 to 9999 (inclusive).\n",
    "\n",
    "np.random.shuffle(Z): This statement shuffles the elements of the array Z in-place \n",
    "    (i.e., the original array is modified) in a random order.\n",
    "\n",
    "n = 5: This statement sets the variable n to 5, which represents the number of largest elements we want to \n",
    "    extract from the shuffled array.\n",
    "\n",
    "Z[np.argsort(Z)[-n:]]: This statement sorts the indices of the shuffled array Z using np.argsort(z) in ascending order.\n",
    "    Then, by slicing [-n:], we get the last n indices corresponding to the n largest elements in the array. \n",
    "    In this case, since n = 5, the slice returns the index of the largest element in the shuffled array.\n",
    "\n",
    "print(Z[np.argsort(Z)[-n:]]): Finally print() function prints the largest element in the shuffled array \n",
    "    by indexing the array Z with the calculated slice.\n",
    "\n"
   ]
  },
  {
   "cell_type": "markdown",
   "id": "b8b4523b",
   "metadata": {},
   "source": [
    "**18. Create a random 5*3 matrix and replace items that are larger than 4 by their squares ( Example: 6 --> 36)**\n",
    "\n",
    "hint: np.where"
   ]
  },
  {
   "cell_type": "code",
   "execution_count": null,
   "id": "bd3aa7e8",
   "metadata": {},
   "outputs": [],
   "source": [
    "threeByFiveArray = np.ramdon.radiant(1,10,(5,3))\n"
   ]
  }
 ],
 "metadata": {
  "kernelspec": {
   "display_name": "Python 3 (ipykernel)",
   "language": "python",
   "name": "python3"
  },
  "language_info": {
   "codemirror_mode": {
    "name": "ipython",
    "version": 3
   },
   "file_extension": ".py",
   "mimetype": "text/x-python",
   "name": "python",
   "nbconvert_exporter": "python",
   "pygments_lexer": "ipython3",
   "version": "3.10.9"
  }
 },
 "nbformat": 4,
 "nbformat_minor": 5
}
